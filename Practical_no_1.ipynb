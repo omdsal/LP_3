{
 "cells": [
  {
   "cell_type": "code",
   "execution_count": null,
   "id": "9960a3fe-908f-4857-9f2b-e1bb2980aa81",
   "metadata": {},
   "outputs": [],
   "source": [
    "Name : Omkar .U. Hulawale\n",
    "Roll_no : 14153\n",
    "Batch : A3"
   ]
  },
  {
   "cell_type": "code",
   "execution_count": 1,
   "id": "83585835-9629-498c-bee5-a59bd760495c",
   "metadata": {},
   "outputs": [
    {
     "name": "stdout",
     "output_type": "stream",
     "text": [
      "Recursive Fibonacci of 10: 55\n",
      "Iterative Fibonacci of 10: 55\n",
      "\n",
      "Time and Space Complexity Analysis:\n",
      "                   Method Time Complexity Space Complexity\n",
      "                Recursive          O(2^n)             O(n)\n",
      "Non-Recursive (Iterative)            O(n)             O(1)\n"
     ]
    }
   ],
   "source": [
    "from functools import lru_cache\n",
    "import pandas as pd\n",
    "\n",
    "# ----------------- Recursive Method -----------------\n",
    "def fib_recursive(n: int) -> int:\n",
    "    \"\"\"\n",
    "    Naive Recursive Fibonacci\n",
    "    F(0) = 0, F(1) = 1, F(n) = F(n-1) + F(n-2)\n",
    "\n",
    "    Time Complexity: O(2^n) — exponential\n",
    "    Space Complexity: O(n) — recursion stack\n",
    "    \"\"\"\n",
    "    if n < 0:\n",
    "        raise ValueError(\"n must be non-negative\")\n",
    "    if n <= 1:\n",
    "        return n\n",
    "    return fib_recursive(n-1) + fib_recursive(n-2)\n",
    "\n",
    "# ----------------- Non-Recursive Method -----------------\n",
    "def fib_iterative(n: int) -> int:\n",
    "    \"\"\"\n",
    "    Iterative (Space-Optimized) Fibonacci\n",
    "    Uses loop and two variables only.\n",
    "\n",
    "    Time Complexity: O(n)\n",
    "    Space Complexity: O(1)\n",
    "    \"\"\"\n",
    "    if n < 0:\n",
    "        raise ValueError(\"n must be non-negative\")\n",
    "    a, b = 0, 1\n",
    "    for _ in range(n):\n",
    "        a, b = b, a + b\n",
    "    return a\n",
    "\n",
    "# ----------------- Testing Both Methods -----------------\n",
    "n = 10  # Example\n",
    "print(f\"Recursive Fibonacci of {n}: {fib_recursive(n)}\")\n",
    "print(f\"Iterative Fibonacci of {n}: {fib_iterative(n)}\")\n",
    "\n",
    "# ----------------- Complexity Analysis Table -----------------\n",
    "data = [\n",
    "    [\"Recursive\", \"O(2^n)\", \"O(n)\"],\n",
    "    [\"Non-Recursive (Iterative)\", \"O(n)\", \"O(1)\"]\n",
    "]\n",
    "df = pd.DataFrame(data, columns=[\"Method\", \"Time Complexity\", \"Space Complexity\"])\n",
    "print(\"\\nTime and Space Complexity Analysis:\")\n",
    "print(df.to_string(index=False))\n"
   ]
  }
 ],
 "metadata": {
  "kernelspec": {
   "display_name": "Python 3 (ipykernel)",
   "language": "python",
   "name": "python3"
  },
  "language_info": {
   "codemirror_mode": {
    "name": "ipython",
    "version": 3
   },
   "file_extension": ".py",
   "mimetype": "text/x-python",
   "name": "python",
   "nbconvert_exporter": "python",
   "pygments_lexer": "ipython3",
   "version": "3.12.4"
  }
 },
 "nbformat": 4,
 "nbformat_minor": 5
}
