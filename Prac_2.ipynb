{
 "cells": [
  {
   "cell_type": "code",
   "execution_count": null,
   "id": "b6786449-5b36-409a-a52b-1e5dc45840bc",
   "metadata": {},
   "outputs": [],
   "source": [
    "Name : Omkar .U. Hulawale\n",
    "Roll_no : 14153\n",
    "Batch : A3"
   ]
  },
  {
   "cell_type": "code",
   "execution_count": 7,
   "id": "769699dd-8075-4775-964f-a5748982004a",
   "metadata": {},
   "outputs": [
    {
     "name": "stdin",
     "output_type": "stream",
     "text": [
      "Enter text to encode using Huffman Encoding:  mississippi\n"
     ]
    },
    {
     "name": "stdout",
     "output_type": "stream",
     "text": [
      "\n",
      "Character Codes:\n",
      "'i': 0\n",
      "'m': 100\n",
      "'p': 101\n",
      "'s': 11\n",
      "\n",
      "Original Text: mississippi\n",
      "Encoded Text : 100011110111101011010\n",
      "\n",
      "Original Size (bits): 88\n",
      "Compressed Size (bits): 21\n",
      "Compression Ratio: 4.19\n"
     ]
    }
   ],
   "source": [
    "import heapq\n",
    "\n",
    "# Node for Huffman Tree\n",
    "class Node:\n",
    "    def __init__(self, char, freq):\n",
    "        self.char = char\n",
    "        self.freq = freq\n",
    "        self.left = None\n",
    "        self.right = None\n",
    "    \n",
    "    def __lt__(self, other):\n",
    "        return self.freq < other.freq\n",
    "\n",
    "\n",
    "def build_huffman_tree(char_freq):\n",
    "    heap = [Node(char, freq) for char, freq in char_freq.items()]\n",
    "    heapq.heapify(heap)\n",
    "\n",
    "    while len(heap) > 1:\n",
    "        left = heapq.heappop(heap)\n",
    "        right = heapq.heappop(heap)\n",
    "\n",
    "        merged = Node(None, left.freq + right.freq)\n",
    "        merged.left = left\n",
    "        merged.right = right\n",
    "\n",
    "        heapq.heappush(heap, merged)\n",
    "\n",
    "    return heap[0]\n",
    "\n",
    "\n",
    "def generate_codes(root, current_code=\"\", codes={}):\n",
    "    if root is None:\n",
    "        return\n",
    "\n",
    "    if root.char is not None:\n",
    "        codes[root.char] = current_code\n",
    "        return\n",
    "\n",
    "    generate_codes(root.left, current_code + \"0\", codes)\n",
    "    generate_codes(root.right, current_code + \"1\", codes)\n",
    "\n",
    "    return codes\n",
    "\n",
    "\n",
    "def huffman_encoding(text):\n",
    "    freq = {}\n",
    "    for char in text:\n",
    "        freq[char] = freq.get(char, 0) + 1\n",
    "\n",
    "    root = build_huffman_tree(freq)\n",
    "    huffman_codes = generate_codes(root)\n",
    "\n",
    "    encoded_text = \"\".join([huffman_codes[char] for char in text])\n",
    "    return huffman_codes, encoded_text\n",
    "\n",
    "\n",
    "if __name__ == \"__main__\":\n",
    "    text = input(\"Enter text to encode using Huffman Encoding: \").strip()\n",
    "\n",
    "    if not text:\n",
    "        print(\"Error: No input provided!\")\n",
    "    else:\n",
    "        codes, encoded = huffman_encoding(text)\n",
    "\n",
    "        print(\"\\nCharacter Codes:\")\n",
    "        for ch, code in codes.items():\n",
    "            print(f\"'{ch}': {code}\")\n",
    "\n",
    "        # Sizes\n",
    "        original_size = len(text) * 8  # 8 bits per character (ASCII)\n",
    "        compressed_size = len(encoded)\n",
    "\n",
    "        print(\"\\nOriginal Text:\", text)\n",
    "        print(\"Encoded Text :\", encoded)\n",
    "        print(\"\\nOriginal Size (bits):\", original_size)\n",
    "        print(\"Compressed Size (bits):\", compressed_size)\n",
    "        print(\"Compression Ratio:\", round(original_size / compressed_size, 2))\n"
   ]
  }
 ],
 "metadata": {
  "kernelspec": {
   "display_name": "Python 3 (ipykernel)",
   "language": "python",
   "name": "python3"
  },
  "language_info": {
   "codemirror_mode": {
    "name": "ipython",
    "version": 3
   },
   "file_extension": ".py",
   "mimetype": "text/x-python",
   "name": "python",
   "nbconvert_exporter": "python",
   "pygments_lexer": "ipython3",
   "version": "3.12.4"
  }
 },
 "nbformat": 4,
 "nbformat_minor": 5
}
