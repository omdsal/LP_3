{
 "cells": [
  {
   "cell_type": "code",
   "execution_count": null,
   "id": "74da2fc0-d2f2-41c1-a3aa-57e686302c87",
   "metadata": {},
   "outputs": [],
   "source": [
    "Name : Omkar .U. Hulawale\n",
    "Roll_no : 14153\n",
    "Batch : A3"
   ]
  },
  {
   "cell_type": "code",
   "execution_count": 1,
   "id": "fe1e7f90-04c9-4c8c-bd47-065456abd366",
   "metadata": {},
   "outputs": [
    {
     "name": "stdin",
     "output_type": "stream",
     "text": [
      "Number of items:  5\n",
      "Weights of items (space separated):  5 10 15 22 25\n",
      "Values of items (space separated):  30 40 45 77 90\n",
      "Knapsack capacity:  60\n"
     ]
    },
    {
     "name": "stdout",
     "output_type": "stream",
     "text": [
      "Added whole item 1 (value=30, weight=5). Space left: 55\n",
      "Added whole item 2 (value=40, weight=10). Space left: 45\n",
      "Added whole item 5 (value=90, weight=25). Space left: 20\n",
      "Added 90.91% of item 4 (value=77, weight=22). Space left: 0\n",
      "Total value in the knapsack: 230.00\n"
     ]
    }
   ],
   "source": [
    "# Get inputs from the user\n",
    "n = int(input(\"Number of items: \"))\n",
    "weights = list(map(int, input(\"Weights of items (space separated): \").split()))\n",
    "values = list(map(int, input(\"Values of items (space separated): \").split()))\n",
    "capacity = int(input(\"Knapsack capacity: \"))\n",
    "\n",
    "# Keep track of how much space is left and total value\n",
    "space_left = capacity\n",
    "total_value = 0\n",
    "\n",
    "# Track which items are already taken\n",
    "taken = [False] * n\n",
    "\n",
    "while space_left > 0:\n",
    "    # Find the item with the best value/weight ratio that is not taken yet\n",
    "    best_index = -1\n",
    "    best_ratio = 0\n",
    "    for i in range(n):\n",
    "        if not taken[i]:\n",
    "            ratio = values[i] / weights[i]\n",
    "            if ratio > best_ratio:\n",
    "                best_ratio = ratio\n",
    "                best_index = i\n",
    "\n",
    "    # Mark the best item as taken\n",
    "    taken[best_index] = True\n",
    "\n",
    "    # If the whole item fits, take it completely\n",
    "    if weights[best_index] <= space_left:\n",
    "        space_left -= weights[best_index]\n",
    "        total_value += values[best_index]\n",
    "        print(f\"Added whole item {best_index + 1} (value={values[best_index]}, weight={weights[best_index]}). Space left: {space_left}\")\n",
    "    else:\n",
    "        # Otherwise, take the fraction that fits\n",
    "        fraction = space_left / weights[best_index]\n",
    "        total_value += values[best_index] * fraction\n",
    "        print(f\"Added {fraction*100:.2f}% of item {best_index + 1} (value={values[best_index]}, weight={weights[best_index]}). Space left: 0\")\n",
    "        space_left = 0  # Bag is full now\n",
    "\n",
    "print(f\"Total value in the knapsack: {total_value:.2f}\")"
   ]
  }
 ],
 "metadata": {
  "kernelspec": {
   "display_name": "Python 3 (ipykernel)",
   "language": "python",
   "name": "python3"
  },
  "language_info": {
   "codemirror_mode": {
    "name": "ipython",
    "version": 3
   },
   "file_extension": ".py",
   "mimetype": "text/x-python",
   "name": "python",
   "nbconvert_exporter": "python",
   "pygments_lexer": "ipython3",
   "version": "3.12.4"
  }
 },
 "nbformat": 4,
 "nbformat_minor": 5
}
