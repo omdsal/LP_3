{
 "cells": [
  {
   "cell_type": "code",
   "execution_count": null,
   "id": "e8f993d4-9efc-4d95-851a-e51cea542896",
   "metadata": {},
   "outputs": [],
   "source": [
    "Name : Omkar .U. Hulawale\n",
    "Roll_no : 14153\n",
    "Batch : A3"
   ]
  },
  {
   "cell_type": "code",
   "execution_count": 5,
   "id": "6998c404-5e7f-476a-a06f-0c436ac0fc0e",
   "metadata": {},
   "outputs": [
    {
     "name": "stdin",
     "output_type": "stream",
     "text": [
      "Enter number of items:  4\n"
     ]
    },
    {
     "name": "stdout",
     "output_type": "stream",
     "text": [
      "\n",
      "Enter weight and value for each item:\n"
     ]
    },
    {
     "name": "stdin",
     "output_type": "stream",
     "text": [
      "  Weight of item 1:  2\n",
      "  Value of item 1:  3\n",
      "  Weight of item 2:  3\n",
      "  Value of item 2:  4\n",
      "  Weight of item 3:  4\n",
      "  Value of item 3:  5\n",
      "  Weight of item 4:  5\n",
      "  Value of item 4:  6\n",
      "\n",
      "Enter capacity of knapsack:  5\n"
     ]
    },
    {
     "name": "stdout",
     "output_type": "stream",
     "text": [
      "\n",
      "Maximum value that can be carried in the knapsack: 7\n"
     ]
    }
   ],
   "source": [
    "def knapsack_dp(weights, values, capacity):\n",
    "    n = len(values)\n",
    "    dp = [[0 for _ in range(capacity + 1)] for _ in range(n + 1)]\n",
    "\n",
    "    # Build the DP table\n",
    "    for i in range(1, n + 1):\n",
    "        for w in range(capacity + 1):\n",
    "            if weights[i - 1] <= w:\n",
    "                dp[i][w] = max(\n",
    "                    dp[i - 1][w],  # Exclude current item\n",
    "                    dp[i - 1][w - weights[i - 1]] + values[i - 1]  # Include current item\n",
    "                )\n",
    "            else:\n",
    "                dp[i][w] = dp[i - 1][w]\n",
    "\n",
    "    return dp[n][capacity]\n",
    "\n",
    "# ===== Main Program Starts Here =====\n",
    "\n",
    "# Input: number of items\n",
    "n = int(input(\"Enter number of items: \"))\n",
    "\n",
    "# Input: weights and values\n",
    "weights = []\n",
    "values = []\n",
    "\n",
    "print(\"\\nEnter weight and value for each item:\")\n",
    "\n",
    "for i in range(n):\n",
    "    w = int(input(f\"  Weight of item {i + 1}: \"))\n",
    "    v = int(input(f\"  Value of item {i + 1}: \"))\n",
    "    weights.append(w)\n",
    "    values.append(v)\n",
    "\n",
    "# Input: capacity of knapsack\n",
    "capacity = int(input(\"\\nEnter capacity of knapsack: \"))\n",
    "\n",
    "# Solve using Dynamic Programming\n",
    "max_value = knapsack_dp(weights, values, capacity)\n",
    "\n",
    "print(f\"\\nMaximum value that can be carried in the knapsack: {max_value}\")\n"
   ]
  }
 ],
 "metadata": {
  "kernelspec": {
   "display_name": "Python 3 (ipykernel)",
   "language": "python",
   "name": "python3"
  },
  "language_info": {
   "codemirror_mode": {
    "name": "ipython",
    "version": 3
   },
   "file_extension": ".py",
   "mimetype": "text/x-python",
   "name": "python",
   "nbconvert_exporter": "python",
   "pygments_lexer": "ipython3",
   "version": "3.12.4"
  }
 },
 "nbformat": 4,
 "nbformat_minor": 5
}
